{
 "cells": [
  {
   "cell_type": "code",
   "execution_count": 3,
   "id": "4adc53ac-9c48-4a9d-8a4c-9c9466e810a7",
   "metadata": {},
   "outputs": [
    {
     "name": "stdout",
     "output_type": "stream",
     "text": [
      "Hola mundo\n"
     ]
    }
   ],
   "source": [
    "print(\"Hola mundo\")"
   ]
  },
  {
   "cell_type": "code",
   "execution_count": 4,
   "id": "1d0973b5-ff0f-46ac-a70d-d6c6a5edd14a",
   "metadata": {},
   "outputs": [
    {
     "name": "stdout",
     "output_type": "stream",
     "text": [
      "Hola 2.0\n"
     ]
    }
   ],
   "source": [
    "print(\"Hola 2.0\")"
   ]
  },
  {
   "cell_type": "code",
   "execution_count": null,
   "id": "c52df64e-bff4-4331-a5cf-c2adfd064b84",
   "metadata": {},
   "outputs": [],
   "source": []
  }
 ],
 "metadata": {
  "kernelspec": {
   "display_name": "Python [conda env:base] *",
   "language": "python",
   "name": "conda-base-py"
  },
  "language_info": {
   "codemirror_mode": {
    "name": "ipython",
    "version": 3
   },
   "file_extension": ".py",
   "mimetype": "text/x-python",
   "name": "python",
   "nbconvert_exporter": "python",
   "pygments_lexer": "ipython3",
   "version": "3.13.5"
  }
 },
 "nbformat": 4,
 "nbformat_minor": 5
}
