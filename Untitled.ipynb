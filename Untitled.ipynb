{
 "cells": [
  {
   "cell_type": "code",
   "execution_count": null,
   "id": "300ca6b9-5ebc-421a-b1cf-98908653f606",
   "metadata": {},
   "outputs": [],
   "source": [
    "import numpy as np\n",
    "import matplotlib.pyplot as plt\n",
    "\n",
    "# Function to generate Fibonacci numbers\n",
    "def generate_fibonacci(n):\n",
    "    fib_sequence = [0, 1]\n",
    "    for i in range(2, n):\n",
    "        fib_sequence.append(fib_sequence[i-1] + fib_sequence[i-2])\n",
    "    return fib_sequence\n",
    "\n",
    "# Generate first 100 Fibonacci numbers\n",
    "n = 100\n",
    "fibonacci_numbers = generate_fibonacci(n)\n",
    "\n",
    "# Create the plot\n",
    "plt.figure(figsize=(12, 6))\n",
    "plt.plot(range(n), fibonacci_numbers, 'b-', linewidth=1.5)\n",
    "plt.scatter(range(n), fibonacci_numbers, c='red', s=30, alpha=0.7)\n",
    "plt.title('First 100 Fibonacci Numbers', fontsize=16)\n",
    "plt.xlabel('Index', fontsize=12)\n",
    "plt.ylabel('Value', fontsize=12)\n",
    "plt.grid(True, alpha=0.3)\n",
    "\n",
    "# Add a log scale y-axis to better visualize the exponential growth\n",
    "plt.yscale('log')\n",
    "plt.tight_layout()\n",
    "\n",
    "# Display the plot\n",
    "plt.show()\n",
    "\n",
    "# Print the first 10 and last 5 numbers to verify\n",
    "print(\"First 10 Fibonacci numbers:\", fibonacci_numbers[:10])\n",
    "print(\"Last 5 Fibonacci numbers:\", fibonacci_numbers[-5:])"
   ]
  }
 ],
 "metadata": {
  "kernelspec": {
   "display_name": "Python [conda env:base] *",
   "language": "python",
   "name": "conda-base-py"
  },
  "language_info": {
   "codemirror_mode": {
    "name": "ipython",
    "version": 3
   },
   "file_extension": ".py",
   "mimetype": "text/x-python",
   "name": "python",
   "nbconvert_exporter": "python",
   "pygments_lexer": "ipython3",
   "version": "3.13.5"
  }
 },
 "nbformat": 4,
 "nbformat_minor": 5
}
