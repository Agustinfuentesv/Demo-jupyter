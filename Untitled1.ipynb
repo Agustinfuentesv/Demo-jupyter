{
 "cells": [
  {
   "cell_type": "code",
   "execution_count": null,
   "id": "44dfa097-de79-4702-a046-a748482ea1bd",
   "metadata": {},
   "outputs": [],
   "source": [
    "print(\"hola mundo 3.0\")"
   ]
  }
 ],
 "metadata": {
  "kernelspec": {
   "display_name": "Python [conda env:base] *",
   "language": "python",
   "name": "conda-base-py"
  },
  "language_info": {
   "codemirror_mode": {
    "name": "ipython",
    "version": 3
   },
   "file_extension": ".py",
   "mimetype": "text/x-python",
   "name": "python",
   "nbconvert_exporter": "python",
   "pygments_lexer": "ipython3",
   "version": "3.13.5"
  }
 },
 "nbformat": 4,
 "nbformat_minor": 5
}
